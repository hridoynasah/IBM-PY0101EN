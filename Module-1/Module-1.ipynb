{
 "cells": [
  {
   "cell_type": "markdown",
   "metadata": {},
   "source": [
    "# Module 1 : Learning Objectives  \n",
    "After completing this section I will:  \n",
    "\n",
    "-Understand the available data types in Python  \n",
    "-Be familiar with Python expressions and variables  \n",
    "-Be able to perform basic operations on strings"
   ]
  },
  {
   "cell_type": "markdown",
   "metadata": {},
   "source": [
    "Getting Started with Python"
   ]
  },
  {
   "cell_type": "code",
   "execution_count": 1,
   "metadata": {},
   "outputs": [
    {
     "name": "stdout",
     "output_type": "stream",
     "text": [
      "Hello World!\n"
     ]
    }
   ],
   "source": [
    "print(\"Hello World!\")"
   ]
  },
  {
   "cell_type": "code",
   "execution_count": 2,
   "metadata": {},
   "outputs": [
    {
     "ename": "NameError",
     "evalue": "name 'frint' is not defined",
     "output_type": "error",
     "traceback": [
      "\u001b[1;31m---------------------------------------------------------------------------\u001b[0m",
      "\u001b[1;31mNameError\u001b[0m                                 Traceback (most recent call last)",
      "Cell \u001b[1;32mIn[2], line 3\u001b[0m\n\u001b[0;32m      1\u001b[0m \u001b[38;5;66;03m# A Syntactic error is when Python does not understand your code\u001b[39;00m\n\u001b[0;32m      2\u001b[0m \u001b[38;5;66;03m# Example: NameError\u001b[39;00m\n\u001b[1;32m----> 3\u001b[0m \u001b[43mfrint\u001b[49m(\u001b[38;5;124m\"\u001b[39m\u001b[38;5;124mHello World!\u001b[39m\u001b[38;5;124m\"\u001b[39m)\n",
      "\u001b[1;31mNameError\u001b[0m: name 'frint' is not defined"
     ]
    }
   ],
   "source": [
    "# A Syntactic error is when Python does not understand your code\n",
    "# Example: NameError\n",
    "frint(\"Hello World!\")"
   ]
  },
  {
   "cell_type": "code",
   "execution_count": 3,
   "metadata": {},
   "outputs": [
    {
     "name": "stdout",
     "output_type": "stream",
     "text": [
      "Hello world 102\n"
     ]
    }
   ],
   "source": [
    "#A Semantic error is when your logic is wrong\n",
    "print(\"Hello world 102\")\n",
    "# But the output should be : Hello world 101"
   ]
  },
  {
   "cell_type": "markdown",
   "metadata": {},
   "source": [
    "Data Types :\n",
    "Integers, Floats, Strings, Booleans"
   ]
  },
  {
   "cell_type": "code",
   "execution_count": 4,
   "metadata": {},
   "outputs": [
    {
     "name": "stdout",
     "output_type": "stream",
     "text": [
      "10\n",
      "11.567\n",
      "python\n",
      "True\n"
     ]
    }
   ],
   "source": [
    "a, b, c, d = 10, 11.567, \"python\", True\n",
    "print(a) # int\n",
    "print(b) # float\n",
    "print(c) # str\n",
    "print(d) # bool"
   ]
  },
  {
   "cell_type": "markdown",
   "metadata": {},
   "source": [
    "Type casting"
   ]
  },
  {
   "cell_type": "code",
   "execution_count": null,
   "metadata": {},
   "outputs": [
    {
     "name": "stdout",
     "output_type": "stream",
     "text": [
      "10.0\n",
      "11\n",
      "False True True True\n",
      "1 0\n",
      "5 6.7465\n"
     ]
    },
    {
     "ename": "ValueError",
     "evalue": "invalid literal for int() with base 10: 'A'",
     "output_type": "error",
     "traceback": [
      "\u001b[1;31m---------------------------------------------------------------------------\u001b[0m",
      "\u001b[1;31mValueError\u001b[0m                                Traceback (most recent call last)",
      "Cell \u001b[1;32mIn[8], line 16\u001b[0m\n\u001b[0;32m     13\u001b[0m \u001b[38;5;28mprint\u001b[39m(\u001b[38;5;28mint\u001b[39m(\u001b[38;5;124m'\u001b[39m\u001b[38;5;124m5\u001b[39m\u001b[38;5;124m'\u001b[39m), \u001b[38;5;28mfloat\u001b[39m(\u001b[38;5;124m'\u001b[39m\u001b[38;5;124m6.7465\u001b[39m\u001b[38;5;124m'\u001b[39m))\n\u001b[0;32m     15\u001b[0m \u001b[38;5;66;03m# Character to integers, float not possible \u001b[39;00m\n\u001b[1;32m---> 16\u001b[0m \u001b[38;5;28mprint\u001b[39m(\u001b[38;5;28;43mint\u001b[39;49m\u001b[43m(\u001b[49m\u001b[38;5;124;43m\"\u001b[39;49m\u001b[38;5;124;43mA\u001b[39;49m\u001b[38;5;124;43m\"\u001b[39;49m\u001b[43m)\u001b[49m)\n",
      "\u001b[1;31mValueError\u001b[0m: invalid literal for int() with base 10: 'A'"
     ]
    }
   ],
   "source": [
    "# int to float \n",
    "print(float(10))\n",
    "\n",
    "# float to int \n",
    "print(int(11.567))\n",
    "\n",
    "# int to bool\n",
    "print(bool(0), bool(5), bool(4.65), bool(-5))\n",
    "\n",
    "# bool to int\n",
    "print(int(True), int(False))\n",
    "\n",
    "# str to int & float (Only possible using numbers not with letters)\n",
    "print(int('5'), float('6.7465'))\n",
    "\n",
    "# Character to integers, float not possible \n",
    "print(int(\"A\"))\n",
    "\n"
   ]
  },
  {
   "cell_type": "markdown",
   "metadata": {},
   "source": [
    "Types using type keyword."
   ]
  },
  {
   "cell_type": "code",
   "execution_count": 9,
   "metadata": {},
   "outputs": [
    {
     "name": "stdout",
     "output_type": "stream",
     "text": [
      "<class 'int'>\n",
      "<class 'str'>\n",
      "<class 'bool'>\n",
      "<class 'float'>\n",
      "<class 'list'>\n"
     ]
    }
   ],
   "source": [
    "print(type(10))\n",
    "print(type(\"python\"))\n",
    "print(type(True))\n",
    "print(type(10.865))\n",
    "print(type([10,20,30,'py']))"
   ]
  },
  {
   "cell_type": "markdown",
   "metadata": {},
   "source": [
    "Expressions & Variables"
   ]
  },
  {
   "cell_type": "code",
   "execution_count": 9,
   "metadata": {},
   "outputs": [
    {
     "name": "stdout",
     "output_type": "stream",
     "text": [
      "3.3333333333333335\n",
      "12.0\n",
      "1\n",
      "3\n",
      "6.666666666666667\n",
      "32\n"
     ]
    }
   ],
   "source": [
    "# Expressions\n",
    "\n",
    "print(10/3)\n",
    "print(10+4*3/6)\n",
    "print(10%3)\n",
    "\n",
    "# Integer division (It gives round value)\n",
    "print(10//3)\n",
    "\n",
    "# Variables\n",
    "x = 20\n",
    "print(x / 3)\n",
    "\n",
    "x = 32\n",
    "print(x)\n"
   ]
  },
  {
   "cell_type": "code",
   "execution_count": 7,
   "metadata": {},
   "outputs": [
    {
     "name": "stdout",
     "output_type": "stream",
     "text": [
      "3.3333333333333335\n",
      "3\n"
     ]
    }
   ],
   "source": [
    "# Normal division vs Integer Division\n",
    "# Normal division:\n",
    "print(10/3)\n",
    "\n",
    "# Integer division:\n",
    "print(10//3)"
   ]
  },
  {
   "cell_type": "markdown",
   "metadata": {},
   "source": [
    "Strings in python"
   ]
  },
  {
   "cell_type": "code",
   "execution_count": 3,
   "metadata": {},
   "outputs": [
    {
     "name": "stdout",
     "output_type": "stream",
     "text": [
      "h\n",
      "M\n"
     ]
    }
   ],
   "source": [
    "name = \"Michael Jackson\"\n",
    "print(name[3])\n",
    "print(name[0])\n",
    "\n",
    "# Negative indexing: Starts with last index of the positive index\n",
    "print(name[-1])"
   ]
  },
  {
   "cell_type": "markdown",
   "metadata": {},
   "source": [
    "Indexing in python "
   ]
  },
  {
   "cell_type": "code",
   "execution_count": null,
   "metadata": {},
   "outputs": [],
   "source": [
    "# Character:    M     i     c     h     a     e     l           J     a     c     k     s     o     n\n",
    "# Positive:     0     1     2     3     4     5     6     7     8     9    10    11    12    13    14\n",
    "# Negative:   -15   -14   -13   -12   -11   -10    -9    -8    -7    -6    -5    -4    -3    -2    -1\n"
   ]
  },
  {
   "cell_type": "code",
   "execution_count": 19,
   "metadata": {},
   "outputs": [
    {
     "name": "stdout",
     "output_type": "stream",
     "text": [
      "Michael\n",
      "Jackson\n",
      "Michael\n",
      "el Jackson\n"
     ]
    }
   ],
   "source": [
    "# String Slicing \n",
    "name = \"Michael Jackson\"\n",
    "# [Starting index : Ending index + 1] \n",
    "# [Starting index: Ending index: Number of index to be jump]\n",
    "\n",
    "print(name[0:7])\n",
    "print(name[8:15])\n",
    "print(name[:7])\n",
    "print(name[5:])\n",
    "\n",
    "# Reverse using slicing \n",
    "# Character:    M     i     c     h     a     e     l           J     a     c     k     s     o     n\n",
    "# Positive:     0     1     2     3     4     5     6     7     8     9    10    11    12    13    14\n",
    "# Negative:   -15   -14   -13   -12   -11   -10    -9    -8    -7    -6    -5    -4    -3    -2    -1\n",
    "\n",
    "\n"
   ]
  },
  {
   "cell_type": "code",
   "execution_count": 18,
   "metadata": {},
   "outputs": [
    {
     "name": "stdout",
     "output_type": "stream",
     "text": [
      "McalJcsn\n",
      "MaJs\n",
      "he ak\n"
     ]
    }
   ],
   "source": [
    "# String: Stride\n",
    "# [Starting index: Ending index: Number of index to be jump]\n",
    "name = \"Michael Jackson\"\n",
    "print(name[::2]) # Every second value \n",
    "print(name[::4]) # Every fourth value \n",
    "print(name[3: 13: 2])"
   ]
  },
  {
   "cell_type": "code",
   "execution_count": 25,
   "metadata": {},
   "outputs": [
    {
     "name": "stdout",
     "output_type": "stream",
     "text": [
      "noskcaJ leahciM\n"
     ]
    }
   ],
   "source": [
    "# Reverse using slicing \n",
    "# Character:    M     i     c     h     a     e     l           J     a     c     k     s     o     n\n",
    "# Positive:     0     1     2     3     4     5     6     7     8     9    10    11    12    13    14\n",
    "# Negative:   -15   -14   -13   -12   -11   -10    -9    -8    -7    -6    -5    -4    -3    -2    -1\n",
    "print(name[::-1])"
   ]
  },
  {
   "cell_type": "code",
   "execution_count": 27,
   "metadata": {},
   "outputs": [
    {
     "name": "stdout",
     "output_type": "stream",
     "text": [
      "15\n"
     ]
    }
   ],
   "source": [
    "# String: Methods \n",
    "print(len(name))"
   ]
  },
  {
   "cell_type": "code",
   "execution_count": 29,
   "metadata": {},
   "outputs": [
    {
     "name": "stdout",
     "output_type": "stream",
     "text": [
      "Michael Jacksonis the best.\n"
     ]
    }
   ],
   "source": [
    "# String concatenation \n",
    "statement = name + \"is the best.\"\n",
    "print(statement)"
   ]
  },
  {
   "cell_type": "code",
   "execution_count": 32,
   "metadata": {},
   "outputs": [
    {
     "name": "stdout",
     "output_type": "stream",
     "text": [
      "Hridoy Hasan\n"
     ]
    }
   ],
   "source": [
    "# Strings are immutable \n",
    "# We can't change the value of index of a string \n",
    "# But we can replace the string with another string \n",
    "name = \"Hridoy Hasan\"\n",
    "print(name)"
   ]
  },
  {
   "cell_type": "markdown",
   "metadata": {},
   "source": [
    "Escape sequence in python string"
   ]
  },
  {
   "cell_type": "code",
   "execution_count": 38,
   "metadata": {},
   "outputs": [
    {
     "name": "stdout",
     "output_type": "stream",
     "text": [
      "My name is Hridoy Hasan & \n",
      "I'm learning python.\n",
      "My name is Hridoy Hasan & \tI'm learning python.\n",
      "My name is Hridoy Hasan & \\I'm learning python.\n",
      "My name is Hridoy Hasan & \\I'm learning python.\n"
     ]
    }
   ],
   "source": [
    "print(\"My name is Hridoy Hasan & \\nI'm learning python.\") # New line\n",
    "print(\"My name is Hridoy Hasan & \\tI'm learning python.\") # Tab = Four spcaces \n",
    "print(\"My name is Hridoy Hasan & \\\\I'm learning python.\") # Double backslash for printing single backslash \n",
    "print(r\"My name is Hridoy Hasan & \\I'm learning python.\") # r infront of string printing single backslash \n"
   ]
  },
  {
   "cell_type": "markdown",
   "metadata": {},
   "source": [
    "String Methods"
   ]
  },
  {
   "cell_type": "code",
   "execution_count": 44,
   "metadata": {},
   "outputs": [
    {
     "name": "stdout",
     "output_type": "stream",
     "text": [
      "HRIDOY HASAN\n",
      "hridoy hasan\n",
      "Hridoy Nasah\n",
      "4\n",
      "-1\n"
     ]
    }
   ],
   "source": [
    "name = \"Hridoy Hasan\"\n",
    "print(name.upper())\n",
    "print(name.lower())\n",
    "print(name.replace(\"Hasan\",\"Nasah\"))\n",
    "print(name.find(\"oy\")) # It gives the first index of the substring if it can find the substring \n",
    "print(name.find(\"oon\")) # It gives -1 if it can't find the substring"
   ]
  },
  {
   "cell_type": "code",
   "execution_count": 45,
   "metadata": {},
   "outputs": [
    {
     "name": "stdout",
     "output_type": "stream",
     "text": [
      "ABCD\n"
     ]
    }
   ],
   "source": [
    "Letters=\"ABCDEFGHIJK\"\n",
    "print(Letters[:4])"
   ]
  },
  {
   "cell_type": "code",
   "execution_count": 46,
   "metadata": {},
   "outputs": [
    {
     "name": "stdout",
     "output_type": "stream",
     "text": [
      "Good\n"
     ]
    }
   ],
   "source": [
    "Good=\"GsoAo+d\"\n",
    "print(Good[::2])"
   ]
  },
  {
   "cell_type": "code",
   "execution_count": null,
   "metadata": {},
   "outputs": [],
   "source": [
    "print(\"uppercase\".upper())"
   ]
  }
 ],
 "metadata": {
  "kernelspec": {
   "display_name": "Python 3",
   "language": "python",
   "name": "python3"
  },
  "language_info": {
   "codemirror_mode": {
    "name": "ipython",
    "version": 3
   },
   "file_extension": ".py",
   "mimetype": "text/x-python",
   "name": "python",
   "nbconvert_exporter": "python",
   "pygments_lexer": "ipython3",
   "version": "3.13.1"
  }
 },
 "nbformat": 4,
 "nbformat_minor": 2
}
