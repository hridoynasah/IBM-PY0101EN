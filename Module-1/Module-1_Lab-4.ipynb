{
 "cells": [
  {
   "cell_type": "markdown",
   "metadata": {},
   "source": [
    "# String Operations\n",
    "# Objectives\n",
    "\n",
    "After completing this lab, I will be able to:\n",
    "\n",
    "1. Work with **Strings**  \n",
    "2. Perform operations on **Strings**  \n",
    "3. Manipulate **Strings** using indexing and escape sequences  "
   ]
  },
  {
   "cell_type": "markdown",
   "metadata": {},
   "source": [
    "# Regular Expressions (RegEx) Special Sequences\n",
    "\n",
    "Regular expressions (RegEx) are patterns used to match and manipulate strings of text. Below are several special sequences in RegEx that can be used to match specific characters or patterns:\n",
    "\n",
    "| **Special Sequence** | **Meaning**                                                    | **Example**                                                                 |\n",
    "|-----------------------|---------------------------------------------------------------|-----------------------------------------------------------------------------|\n",
    "| `\\d`                 | Matches any digit character (0-9)                             | `\"123\"` matches `\\d\\d\\d`                                                   |\n",
    "| `\\D`                 | Matches any non-digit character                               | `\"hello\"` matches `\\D\\D\\D\\D\\D`                                             |\n",
    "| `\\w`                 | Matches any word character (a-z, A-Z, 0-9, and `_`)           | `\"hello_world\"` matches `\\w\\w\\w\\w\\w\\w\\w\\w\\w\\w\\w`                           |\n",
    "| `\\W`                 | Matches any non-word character                                | `\"@#$%\"` matches `\\W\\W\\W\\W`                                                |\n",
    "| `\\s`                 | Matches any whitespace character (space, tab, newline, etc.) | `\"hello world\"` matches `\\w\\w\\w\\w\\w\\s\\w\\w\\w\\w\\w`                           |\n",
    "| `\\S`                 | Matches any non-whitespace character                         | `\"hello_world\"` matches `\\S\\S\\S\\S\\S\\S\\S\\S\\S`                               |\n",
    "| `\\b`                 | Matches the boundary between a word and non-word character   | `\"cat\"` matches `\\bcat\\b` in `\"The cat sat on the mat\"`                    |\n",
    "| `\\B`                 | Matches any position that is not a word boundary             | `\"cat\"` matches `\\Bcat\\B` in `\"category\"` but not in `\"The cat sat on the mat\"` |"
   ]
  },
  {
   "cell_type": "code",
   "execution_count": 3,
   "metadata": {},
   "outputs": [
    {
     "name": "stdout",
     "output_type": "stream",
     "text": [
      "['Michael Jackson', 'Hridoy Hasan']\n"
     ]
    }
   ],
   "source": [
    "# Split string \n",
    "name = \"Michael Jackson,Hridoy Hasan\"\n",
    "split_string = (name.split(\",\"))\n",
    "print(split_string)"
   ]
  },
  {
   "cell_type": "code",
   "execution_count": 4,
   "metadata": {},
   "outputs": [
    {
     "name": "stdout",
     "output_type": "stream",
     "text": [
      "['Michael', 'Jackson', 'Hridoy', 'Hasan']\n"
     ]
    }
   ],
   "source": [
    "name = \"Michael Jackson Hridoy Hasan\"\n",
    "split_string = (name.split()) # By default split with space\n",
    "print(split_string)"
   ]
  },
  {
   "cell_type": "markdown",
   "metadata": {},
   "source": [
    "\n",
    "---\n",
    "\n",
    "# RegEx in Python\n",
    "\n",
    "**RegEx** (short for **Regular Expression**) is a tool for matching and handling strings.\n",
    "\n",
    "## Overview\n",
    "The **RegEx** module provides several functions for working with regular expressions, including:  \n",
    "- `search()`  \n",
    "- `split()`  \n",
    "- `findall()`  \n",
    "- `sub()`  \n",
    "\n",
    "Python provides a built-in module called `re`, which allows you to work with regular expressions.\n",
    "\n",
    "---\n",
    "\n",
    "## How to Use RegEx\n",
    "\n",
    "1. **Import the `re` module**  \n",
    "   To use regular expressions, first, you need to import the `re` module:  \n",
    "   ```python\n",
    "   import re\n",
    "   ```\n",
    "\n",
    "2. **Using the `search()` Function**  \n",
    "   The `search()` function searches for specified patterns within a string.\n",
    "\n",
    "   **Example:**  \n",
    "   Search for the word \"Jackson\" in the string `\"Michael Jackson is the best\"`:  \n",
    "   ```python\n",
    "   import re\n",
    "\n",
    "   text = \"Michael Jackson is the best\"\n",
    "   result = re.search(\"Jackson\", text)\n",
    "\n",
    "   if result:\n",
    "       print(\"Found:\", result.group())\n",
    "   else:\n",
    "       print(\"Not Found\")\n",
    "   ```\n",
    "\n",
    "---\n",
    "\n",
    "### Key Takeaways\n",
    "- `re.search()` returns the first occurrence of the pattern in the string, or `None` if no match is found.\n",
    "- Use `result.group()` to access the matched text.\n",
    "\n",
    "---\n"
   ]
  },
  {
   "cell_type": "code",
   "execution_count": 7,
   "metadata": {},
   "outputs": [
    {
     "name": "stdout",
     "output_type": "stream",
     "text": [
      "Match found!\n"
     ]
    }
   ],
   "source": [
    "import re\n",
    "s1 = \"Michael Jackson is the best\"\n",
    "\n",
    "# Define the pattern to search for\n",
    "pattern = r\"Jackson\"\n",
    "\n",
    "# Use the search() function to search for the pattern in the string\n",
    "result = re.search(pattern, s1)\n",
    "\n",
    "# Check if a match was found\n",
    "if result:\n",
    "    print(\"Match found!\")\n",
    "else:\n",
    "    print(\"Match not found.\")\n"
   ]
  },
  {
   "cell_type": "code",
   "execution_count": 1,
   "metadata": {},
   "outputs": [
    {
     "name": "stdout",
     "output_type": "stream",
     "text": [
      "Match found!\n"
     ]
    }
   ],
   "source": [
    "import re \n",
    "s1 = \"Micheal Jackson is the best.\"\n",
    "\n",
    "# Define the pattern to search for\n",
    "pattern = r\"Jackson\"\n",
    "result = re.search(pattern,s1)\n",
    "\n",
    "if result:\n",
    "    print(\"Match found!\")\n",
    "else:\n",
    "    print(\"Match not fuound.\")"
   ]
  },
  {
   "cell_type": "code",
   "execution_count": 2,
   "metadata": {},
   "outputs": [
    {
     "name": "stdout",
     "output_type": "stream",
     "text": [
      "Phone number found:  12345678\n"
     ]
    }
   ],
   "source": [
    "import re \n",
    "pattern = r\"\\d\\d\\d\\d\\d\\d\\d\\d\"\n",
    "text = \"My phone number is 12345678\"\n",
    "match = re.search(pattern,text)\n",
    "\n",
    "if match:\n",
    "    print(\"Phone number found: \", match.group())\n",
    "else:\n",
    "    print(\"No match\")"
   ]
  },
  {
   "cell_type": "code",
   "execution_count": 3,
   "metadata": {},
   "outputs": [
    {
     "name": "stdout",
     "output_type": "stream",
     "text": [
      "Matches:  [',', ' ', '!']\n"
     ]
    }
   ],
   "source": [
    "import re\n",
    "pattern = r\"\\W\" # matches any non-word character\n",
    "text = \"Hello, world!\"\n",
    "match = re.findall(pattern,text)\n",
    "\n",
    "print(\"Matches: \", match)"
   ]
  },
  {
   "cell_type": "markdown",
   "metadata": {},
   "source": [
    "\n",
    "The findall() function finds all occurrences of a specified pattern within a string."
   ]
  },
  {
   "cell_type": "code",
   "execution_count": 4,
   "metadata": {},
   "outputs": [
    {
     "name": "stdout",
     "output_type": "stream",
     "text": [
      "['as', 'as']\n"
     ]
    }
   ],
   "source": [
    "import re\n",
    "s2 = \"Michael Jackson was a singer and known as the 'King of Pop'\"\n",
    "# Use the findall() function to find all occurrences of the \"as\"\n",
    "pattern = r\"as\"\n",
    "result = re.findall(\"as\",s2)\n",
    "print(result)"
   ]
  },
  {
   "cell_type": "code",
   "execution_count": 5,
   "metadata": {},
   "outputs": [
    {
     "name": "stdout",
     "output_type": "stream",
     "text": [
      "['Michael', 'Jackson', 'was', 'a', 'singer', 'and', 'known', 'as', 'the', \"'King\", 'of', \"Pop'\"]\n"
     ]
    },
    {
     "name": "stderr",
     "output_type": "stream",
     "text": [
      "<>:2: SyntaxWarning: invalid escape sequence '\\s'\n",
      "<>:2: SyntaxWarning: invalid escape sequence '\\s'\n",
      "C:\\Users\\hridoy\\AppData\\Local\\Temp\\ipykernel_12136\\2476957258.py:2: SyntaxWarning: invalid escape sequence '\\s'\n",
      "  split_array = re.split(\"\\s\",s2)\n"
     ]
    }
   ],
   "source": [
    "import re\n",
    "split_array = re.split(\"\\s\",s2)\n",
    "\n",
    "print(split_array)"
   ]
  }
 ],
 "metadata": {
  "kernelspec": {
   "display_name": "Python 3",
   "language": "python",
   "name": "python3"
  },
  "language_info": {
   "codemirror_mode": {
    "name": "ipython",
    "version": 3
   },
   "file_extension": ".py",
   "mimetype": "text/x-python",
   "name": "python",
   "nbconvert_exporter": "python",
   "pygments_lexer": "ipython3",
   "version": "3.13.1"
  }
 },
 "nbformat": 4,
 "nbformat_minor": 2
}
