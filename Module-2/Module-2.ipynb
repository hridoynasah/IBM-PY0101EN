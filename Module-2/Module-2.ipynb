{
 "cells": [
  {
   "cell_type": "markdown",
   "metadata": {},
   "source": [
    "# Module 2: Learning Objectives\n",
    "In this lesson you will learn about:  \n",
    "-Lists and Tuples  \n",
    "-Sets  \n",
    "-Dictionaries "
   ]
  },
  {
   "cell_type": "markdown",
   "metadata": {},
   "source": [
    "# Tuple\n",
    "Tuples are an ordered sequence.  \n",
    "Tuples are immutable, which means we can't change them."
   ]
  },
  {
   "cell_type": "code",
   "execution_count": 12,
   "metadata": {},
   "outputs": [
    {
     "name": "stdout",
     "output_type": "stream",
     "text": [
      "('Hridoy', 10, 20.5, True)\n",
      "<class 'tuple'>\n",
      "Hridoy\n",
      "10\n",
      "10\n",
      "('Hridoy', 10)\n"
     ]
    }
   ],
   "source": [
    "tuple = (\"Hridoy\", 10, 20.5, True)\n",
    "print(tuple)\n",
    "print(type(tuple))\n",
    "print(tuple[0])\n",
    "print(tuple[1])\n",
    "print(tuple[-3])\n",
    "print(tuple[:2])"
   ]
  },
  {
   "cell_type": "markdown",
   "metadata": {},
   "source": [
    "Nesting Tuple"
   ]
  },
  {
   "cell_type": "code",
   "execution_count": 6,
   "metadata": {},
   "outputs": [
    {
     "name": "stdout",
     "output_type": "stream",
     "text": [
      "(('Hridoy', 10, 20.5, True), ('Nested', 1, 2.5, False))\n",
      "True\n",
      "Nested\n",
      "N\n"
     ]
    }
   ],
   "source": [
    "nested_tuple = (tuple, (\"Nested\", 1, 2.5, False))\n",
    "print(nested_tuple)\n",
    "print(nested_tuple[0][3])\n",
    "print(nested_tuple[1][0])\n",
    "print(nested_tuple[1][0][0])"
   ]
  },
  {
   "cell_type": "markdown",
   "metadata": {},
   "source": [
    "# List  \n",
    "List are mutable, which means we can change them."
   ]
  },
  {
   "cell_type": "code",
   "execution_count": 15,
   "metadata": {},
   "outputs": [
    {
     "name": "stdout",
     "output_type": "stream",
     "text": [
      "['Hridoy', 10, 20.5, True]\n",
      "<class 'list'>\n",
      "Hridoy\n",
      "10\n",
      "Hridoy\n",
      "['Hridoy', 10]\n",
      "['Hridoy', 15, True]\n",
      "['Hridoy', 15, True, 'New Element']\n",
      "['Hridoy', 15, 'New Element']\n"
     ]
    }
   ],
   "source": [
    "# create a list with sample data\n",
    "sample_list = [\"Hridoy\", 10, 20.5, True]\n",
    "print(sample_list)\n",
    "\n",
    "print(type(sample_list))\n",
    "\n",
    "del(sample_list[2])\n",
    "\n",
    "# access elements in the list\n",
    "print(sample_list[0])\n",
    "print(sample_list[1])\n",
    "print(sample_list[-3])\n",
    "print(sample_list[:2])\n",
    "\n",
    "# modify elements in the list\n",
    "sample_list[1] = 15\n",
    "print(sample_list)\n",
    "\n",
    "# add elements to the list\n",
    "sample_list.append(\"New Element\")\n",
    "print(sample_list)\n",
    "\n",
    "# remove elements from the list\n",
    "sample_list.remove(True)\n",
    "print(sample_list)"
   ]
  },
  {
   "cell_type": "markdown",
   "metadata": {},
   "source": [
    "Nesting List"
   ]
  },
  {
   "cell_type": "code",
   "execution_count": 10,
   "metadata": {},
   "outputs": [
    {
     "name": "stdout",
     "output_type": "stream",
     "text": [
      "[['Hridoy', 15, True, 'New Element'], 10, 4.5, ('Nested', 1, 2.5, False)]\n",
      "New Element\n",
      "Nested\n",
      "N\n"
     ]
    }
   ],
   "source": [
    "# create a nested list and a tuple inside the list\n",
    "nested_list = [sample_list,10,4.5, (\"Nested\", 1, 2.5, False)]\n",
    "print(nested_list)\n",
    "\n",
    "# access elements in the nested list\n",
    "print(nested_list[0][3])\n",
    "print(nested_list[3][0])\n",
    "print(nested_list[3][0][0])"
   ]
  },
  {
   "cell_type": "markdown",
   "metadata": {},
   "source": [
    "String to List"
   ]
  },
  {
   "cell_type": "code",
   "execution_count": 16,
   "metadata": {},
   "outputs": [
    {
     "name": "stdout",
     "output_type": "stream",
     "text": [
      "['Hridoy', '10', '20.5', 'True']\n"
     ]
    }
   ],
   "source": [
    "# define a string\n",
    "string = \"Hridoy, 10, 20.5, True\"\n",
    "\n",
    "# convert the string to a list using split\n",
    "string_list = string.split(\", \")\n",
    "print(string_list)"
   ]
  },
  {
   "cell_type": "markdown",
   "metadata": {},
   "source": [
    "Clone List"
   ]
  },
  {
   "cell_type": "code",
   "execution_count": 17,
   "metadata": {},
   "outputs": [
    {
     "name": "stdout",
     "output_type": "stream",
     "text": [
      "Original list: ['apple', 'banana', 'cherry', 'date']\n",
      "Cloned list: ['apple', 'banana', 'cherry', 'date']\n"
     ]
    }
   ],
   "source": [
    "# create a new list\n",
    "new_list = [\"apple\", \"banana\", \"cherry\", \"date\"]\n",
    "\n",
    "# clone the list using slicing\n",
    "cloned_list = new_list[:]\n",
    "\n",
    "print(\"Original list:\", new_list)\n",
    "print(\"Cloned list:\", cloned_list)"
   ]
  },
  {
   "cell_type": "code",
   "execution_count": 18,
   "metadata": {},
   "outputs": [
    {
     "name": "stdout",
     "output_type": "stream",
     "text": [
      "Help on list object:\n",
      "\n",
      "class list(object)\n",
      " |  list(iterable=(), /)\n",
      " |\n",
      " |  Built-in mutable sequence.\n",
      " |\n",
      " |  If no argument is given, the constructor creates a new empty list.\n",
      " |  The argument must be an iterable if specified.\n",
      " |\n",
      " |  Methods defined here:\n",
      " |\n",
      " |  __add__(self, value, /)\n",
      " |      Return self+value.\n",
      " |\n",
      " |  __contains__(self, key, /)\n",
      " |      Return bool(key in self).\n",
      " |\n",
      " |  __delitem__(self, key, /)\n",
      " |      Delete self[key].\n",
      " |\n",
      " |  __eq__(self, value, /)\n",
      " |      Return self==value.\n",
      " |\n",
      " |  __ge__(self, value, /)\n",
      " |      Return self>=value.\n",
      " |\n",
      " |  __getattribute__(self, name, /)\n",
      " |      Return getattr(self, name).\n",
      " |\n",
      " |  __getitem__(self, index, /)\n",
      " |      Return self[index].\n",
      " |\n",
      " |  __gt__(self, value, /)\n",
      " |      Return self>value.\n",
      " |\n",
      " |  __iadd__(self, value, /)\n",
      " |      Implement self+=value.\n",
      " |\n",
      " |  __imul__(self, value, /)\n",
      " |      Implement self*=value.\n",
      " |\n",
      " |  __init__(self, /, *args, **kwargs)\n",
      " |      Initialize self.  See help(type(self)) for accurate signature.\n",
      " |\n",
      " |  __iter__(self, /)\n",
      " |      Implement iter(self).\n",
      " |\n",
      " |  __le__(self, value, /)\n",
      " |      Return self<=value.\n",
      " |\n",
      " |  __len__(self, /)\n",
      " |      Return len(self).\n",
      " |\n",
      " |  __lt__(self, value, /)\n",
      " |      Return self<value.\n",
      " |\n",
      " |  __mul__(self, value, /)\n",
      " |      Return self*value.\n",
      " |\n",
      " |  __ne__(self, value, /)\n",
      " |      Return self!=value.\n",
      " |\n",
      " |  __repr__(self, /)\n",
      " |      Return repr(self).\n",
      " |\n",
      " |  __reversed__(self, /)\n",
      " |      Return a reverse iterator over the list.\n",
      " |\n",
      " |  __rmul__(self, value, /)\n",
      " |      Return value*self.\n",
      " |\n",
      " |  __setitem__(self, key, value, /)\n",
      " |      Set self[key] to value.\n",
      " |\n",
      " |  __sizeof__(self, /)\n",
      " |      Return the size of the list in memory, in bytes.\n",
      " |\n",
      " |  append(self, object, /)\n",
      " |      Append object to the end of the list.\n",
      " |\n",
      " |  clear(self, /)\n",
      " |      Remove all items from list.\n",
      " |\n",
      " |  copy(self, /)\n",
      " |      Return a shallow copy of the list.\n",
      " |\n",
      " |  count(self, value, /)\n",
      " |      Return number of occurrences of value.\n",
      " |\n",
      " |  extend(self, iterable, /)\n",
      " |      Extend list by appending elements from the iterable.\n",
      " |\n",
      " |  index(self, value, start=0, stop=9223372036854775807, /)\n",
      " |      Return first index of value.\n",
      " |\n",
      " |      Raises ValueError if the value is not present.\n",
      " |\n",
      " |  insert(self, index, object, /)\n",
      " |      Insert object before index.\n",
      " |\n",
      " |  pop(self, index=-1, /)\n",
      " |      Remove and return item at index (default last).\n",
      " |\n",
      " |      Raises IndexError if list is empty or index is out of range.\n",
      " |\n",
      " |  remove(self, value, /)\n",
      " |      Remove first occurrence of value.\n",
      " |\n",
      " |      Raises ValueError if the value is not present.\n",
      " |\n",
      " |  reverse(self, /)\n",
      " |      Reverse *IN PLACE*.\n",
      " |\n",
      " |  sort(self, /, *, key=None, reverse=False)\n",
      " |      Sort the list in ascending order and return None.\n",
      " |\n",
      " |      The sort is in-place (i.e. the list itself is modified) and stable (i.e. the\n",
      " |      order of two equal elements is maintained).\n",
      " |\n",
      " |      If a key function is given, apply it once to each list item and sort them,\n",
      " |      ascending or descending, according to their function values.\n",
      " |\n",
      " |      The reverse flag can be set to sort in descending order.\n",
      " |\n",
      " |  ----------------------------------------------------------------------\n",
      " |  Class methods defined here:\n",
      " |\n",
      " |  __class_getitem__(...)\n",
      " |      See PEP 585\n",
      " |\n",
      " |  ----------------------------------------------------------------------\n",
      " |  Static methods defined here:\n",
      " |\n",
      " |  __new__(*args, **kwargs)\n",
      " |      Create and return a new object.  See help(type) for accurate signature.\n",
      " |\n",
      " |  ----------------------------------------------------------------------\n",
      " |  Data and other attributes defined here:\n",
      " |\n",
      " |  __hash__ = None\n",
      "\n"
     ]
    }
   ],
   "source": [
    "help(new_list)"
   ]
  },
  {
   "cell_type": "code",
   "execution_count": 20,
   "metadata": {},
   "outputs": [
    {
     "name": "stdout",
     "output_type": "stream",
     "text": [
      "Original tuple: (5, 2, 9, 1, 5, 6)\n",
      "Sorted tuple: [1, 2, 5, 5, 6, 9]\n"
     ]
    }
   ],
   "source": [
    "# create a tuple with sample data\n",
    "sample_tuple = (5, 2, 9, 1, 5, 6)\n",
    "\n",
    "# sort the tuple using sorted function\n",
    "sorted_tuple = sorted(sample_tuple)\n",
    "\n",
    "print(\"Original tuple:\", sample_tuple)\n",
    "print(\"Sorted tuple:\", sorted_tuple)"
   ]
  },
  {
   "cell_type": "markdown",
   "metadata": {},
   "source": [
    "# Sets  \n",
    "Unlike lists and tuples they are unordered.\n",
    "This means sets do not record element position."
   ]
  },
  {
   "cell_type": "code",
   "execution_count": 21,
   "metadata": {},
   "outputs": [
    {
     "name": "stdout",
     "output_type": "stream",
     "text": [
      "Original set with duplicates: {1, 2, 3, 4, 5, 6}\n"
     ]
    }
   ],
   "source": [
    "# create a set with duplicate values\n",
    "sample_set = {1, 2, 3, 4, 4, 5, 5, 6}\n",
    "print(\"Original set with duplicates:\", sample_set)"
   ]
  },
  {
   "cell_type": "code",
   "execution_count": 22,
   "metadata": {},
   "outputs": [
    {
     "name": "stdout",
     "output_type": "stream",
     "text": [
      "Original list: ['apple', 'banana', 'cherry', 'date', 'apple', 'banana']\n",
      "Converted set: {'date', 'apple', 'cherry', 'banana'}\n"
     ]
    }
   ],
   "source": [
    "# create a list with sample data\n",
    "sample_list_to_convert = [\"apple\", \"banana\", \"cherry\", \"date\", \"apple\", \"banana\"]\n",
    "\n",
    "# convert the list to a set\n",
    "converted_set = set(sample_list_to_convert)\n",
    "\n",
    "print(\"Original list:\", sample_list_to_convert)\n",
    "print(\"Converted set:\", converted_set)"
   ]
  },
  {
   "cell_type": "code",
   "execution_count": 23,
   "metadata": {},
   "outputs": [
    {
     "name": "stdout",
     "output_type": "stream",
     "text": [
      "Original set: {1, 2, 3, 4, 5}\n",
      "Set after adding a new value: {1, 2, 3, 4, 5, 6}\n",
      "Set after removing the value: {1, 2, 3, 4, 5}\n"
     ]
    }
   ],
   "source": [
    "# create a set with sample data\n",
    "sample_set = {1, 2, 3, 4, 5}\n",
    "print(\"Original set:\", sample_set)\n",
    "\n",
    "# add a new value to the set\n",
    "sample_set.add(6)\n",
    "print(\"Set after adding a new value:\", sample_set)\n",
    "\n",
    "# remove the value from the set\n",
    "sample_set.remove(6)\n",
    "print(\"Set after removing the value:\", sample_set)"
   ]
  },
  {
   "cell_type": "code",
   "execution_count": 26,
   "metadata": {},
   "outputs": [
    {
     "name": "stdout",
     "output_type": "stream",
     "text": [
      "True\n",
      "False\n"
     ]
    }
   ],
   "source": [
    "sample= {\"apple\", \"banana\", \"cherry\", \"date\", \"apple\", \"banana\"}\n",
    "tf = \"apple\" in sample\n",
    "print(tf)\n",
    "tf = \"mango\" in sample\n",
    "print(tf)"
   ]
  },
  {
   "cell_type": "code",
   "execution_count": 27,
   "metadata": {},
   "outputs": [
    {
     "name": "stdout",
     "output_type": "stream",
     "text": [
      "Union of set1 and set2: {1, 2, 3, 4, 5, 6, 7, 8}\n",
      "Intersection of set1 and set2: {4, 5}\n",
      "Difference of set1 and set2: {1, 2, 3}\n",
      "Symmetric Difference of set1 and set2: {1, 2, 3, 6, 7, 8}\n"
     ]
    }
   ],
   "source": [
    "# create two sets with sample data\n",
    "set1 = {1, 2, 3, 4, 5}\n",
    "set2 = {4, 5, 6, 7, 8}\n",
    "\n",
    "# perform union operation\n",
    "union_set = set1.union(set2)\n",
    "print(\"Union of set1 and set2:\", union_set)\n",
    "\n",
    "# perform intersection operation\n",
    "intersection_set = set1.intersection(set2)\n",
    "print(\"Intersection of set1 and set2:\", intersection_set)\n",
    "\n",
    "# perform difference operation\n",
    "difference_set = set1.difference(set2)\n",
    "print(\"Difference of set1 and set2:\", difference_set)\n",
    "\n",
    "# perform symmetric difference operation\n",
    "symmetric_difference_set = set1.symmetric_difference(set2)\n",
    "print(\"Symmetric Difference of set1 and set2:\", symmetric_difference_set)"
   ]
  },
  {
   "cell_type": "code",
   "execution_count": 28,
   "metadata": {},
   "outputs": [
    {
     "name": "stdout",
     "output_type": "stream",
     "text": [
      "Is set_a a subset of set_b? True\n",
      "Is set_b a superset of set_a? True\n"
     ]
    }
   ],
   "source": [
    "# create two sets with sample data\n",
    "set_a = {1, 2, 3}\n",
    "set_b = {1, 2, 3, 4, 5}\n",
    "\n",
    "# check if set_a is a subset of set_b\n",
    "is_subset = set_a.issubset(set_b)\n",
    "print(\"Is set_a a subset of set_b?\", is_subset)\n",
    "\n",
    "# check if set_b is a superset of set_a\n",
    "is_superset = set_b.issuperset(set_a)\n",
    "print(\"Is set_b a superset of set_a?\", is_superset)"
   ]
  },
  {
   "cell_type": "markdown",
   "metadata": {},
   "source": [
    "# Dictctionary  \n",
    "A dictionary consists of keys and values.  \n",
    "Key of dictionary must be immutable."
   ]
  },
  {
   "cell_type": "markdown",
   "metadata": {},
   "source": [
    "Dict = {\"key1\": 1, \"key2\": \"2\", \"key3\": [3, 3, 3], \"key4\": (4, 4, 4), ('key5'): 5, (0, 1): 6}\n",
    "Dict"
   ]
  }
 ],
 "metadata": {
  "kernelspec": {
   "display_name": "Python 3",
   "language": "python",
   "name": "python3"
  },
  "language_info": {
   "codemirror_mode": {
    "name": "ipython",
    "version": 3
   },
   "file_extension": ".py",
   "mimetype": "text/x-python",
   "name": "python",
   "nbconvert_exporter": "python",
   "pygments_lexer": "ipython3",
   "version": "3.12.6"
  }
 },
 "nbformat": 4,
 "nbformat_minor": 2
}
